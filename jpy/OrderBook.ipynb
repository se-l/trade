{
 "cells": [
  {
   "cell_type": "code",
   "execution_count": null,
   "id": "b9d07f90-ed89-4b96-bfd4-9f70c2d93afd",
   "metadata": {},
   "outputs": [],
   "source": [
    "using JLD2\n",
    "using DataFrames\n",
    "using PlotlyJS\n",
    "using StatsBase\n",
    "using Dates\n",
    "include(\"C://repos//trade//connector//ts2hdf5//client.jl\")\n",
    "include(\"C://repos//trade//common//utils.jl\")\n",
    ";"
   ]
  },
  {
   "cell_type": "code",
   "execution_count": null,
   "id": "deb967e9-84a2-4984-a18f-5d4cddde7522",
   "metadata": {},
   "outputs": [],
   "source": [
    "const Client = ClientTsHdf5;"
   ]
  },
  {
   "cell_type": "code",
   "execution_count": null,
   "id": "7bab9045-beb8-474b-98d8-556ab0f53e6f",
   "metadata": {},
   "outputs": [],
   "source": [
    "df_price = Client.query(Dict(\n",
    "    \"exchange\"=> \"bitfinex\",\n",
    "    \"measurement_name\"=> \"trade bars\",\n",
    "    \"asset\"=> \"ethusd\",\n",
    "    \"unit\" =>\"ethusd\",\n",
    "    \"information\" => \"price\",\n",
    "    \"col\" => \"price\"\n",
    "))\n",
    "df_price = DataFrame(df_price, [\"ts\", \"price\"]);"
   ]
  },
  {
   "cell_type": "code",
   "execution_count": null,
   "id": "1e95feb7-d031-4139-8b88-574943f6c8f1",
   "metadata": {},
   "outputs": [],
   "source": [
    "df = Client.query(Dict(\n",
    "        \"measurement_name\"=> \"order book\",\n",
    "    \"delta_size_ratio\"=> 0.5,\n",
    "    \"exchange\"=> \"bitfinex\",\n",
    "    \"unit\"=> \"size_ewm_sum\",\n",
    "    \"information\"=> \"bid_buy_size_imbalance_ratio\",\n",
    "    \"asset\"=> \"ethusd\"\n",
    "))\n",
    "df = DataFrame(df, [\"ts\", \"bid_buy_size_imbalance_ratio\"]);"
   ]
  },
  {
   "cell_type": "code",
   "execution_count": null,
   "id": "70c68eef",
   "metadata": {},
   "outputs": [],
   "source": [
    "dfj = outerjoin(df, df_price, on=:ts )\n",
    "start=maximum([df[1, \"ts\"], df_price[1, \"ts\"]])\n",
    "end_=minimum([df[end, \"ts\"], df_price[end, \"ts\"]])\n",
    "dfj = dfj[(dfj[:, \"ts\"] .>= start) .& (dfj[:, \"ts\"] .< end_), :]\n",
    "sort!(dfj, [\"ts\"])\n",
    "dfj[:, \"price\"] .= ffill(dfj[:, \"price\"])\n",
    "filter!(r -> !ismissing(r.bid_buy_size_imbalance_ratio), dfj)\n",
    "dfj = dfj[(ismissing.(dfj[:, \"price\"]) |> sum) + 1: end, :]\n",
    "@assert(ismissing.(dfj[:, \"price\"]) |> sum == 0)\n",
    "@assert(ismissing.(dfj[:, \"bid_buy_size_imbalance_ratio\"]) |> sum == 0)\n",
    ";"
   ]
  },
  {
   "cell_type": "code",
   "execution_count": null,
   "id": "7d23a7b3-dae7-435b-80e3-473971696cf8",
   "metadata": {},
   "outputs": [],
   "source": [
    "lt = percentile(dfj[:,\"bid_buy_size_imbalance_ratio\"], 99.99) # EV distorts chart\n",
    "gt = percentile(dfj[:,\"bid_buy_size_imbalance_ratio\"], 0.01) # EV distorts chart\n",
    "dfp = dfj[gt .< dfj[:,\"bid_buy_size_imbalance_ratio\"] .< lt , :]\n",
    "# focus on extreme events\n",
    "gt = percentile(dfp[:,\"bid_buy_size_imbalance_ratio\"], 99) # EV distorts chart\n",
    "lt = percentile(dfp[:,\"bid_buy_size_imbalance_ratio\"], 1) # EV distorts chart\n",
    "dfp = dfp[(gt .< dfp[:,\"bid_buy_size_imbalance_ratio\"]) .| (dfp[:,\"bid_buy_size_imbalance_ratio\"] .< lt), :]\n",
    "\n",
    "# Resampling\n",
    "# dfp[:, \"tsg\"] .= ceil.(dfp[:, \"ts\"], Dates.Minute(5))\n",
    "# dfp = combine(groupby(dfp, \"tsg\"), \"ts\" => last, \"bid_buy_size_imbalance_ratio\" => minimum, \"price\" => last)[:, [\"ts_last\", \"bid_buy_size_imbalance_ratio_minimum\", \"price_last\"]]\n",
    "#rename!(dfp, [\"ts\", \"bid_buy_size_imbalance_ratio\", \"price\"]);\n",
    "\n",
    "print(size(dfp))"
   ]
  },
  {
   "cell_type": "code",
   "execution_count": null,
   "id": "cc74179c-3117-4b18-8549-f8c1c86f38a5",
   "metadata": {},
   "outputs": [],
   "source": [
    "plot([\n",
    "    scatter(x=dfp[:, \"ts\"], y=dfp[:, \"bid_buy_size_imbalance_ratio\"], name=\"bid_buy_size_imbalance_ratio\"),\n",
    "    scatter(x=dfp[:, \"ts\"], y=dfp[:, \"price\"], yaxis=\"y2\", name=\"price\")\n",
    "], Layout(yaxis2=attr(overlaying=\"y\", side=\"right\")))"
   ]
  },
  {
   "cell_type": "code",
   "execution_count": null,
   "id": "afe52df5",
   "metadata": {},
   "outputs": [],
   "source": []
  }
 ],
 "metadata": {
  "@webio": {
   "lastCommId": "29ebafda72234a2d893d63ff7497eec9",
   "lastKernelId": "941b2eaf-ecaf-48ca-aee1-57880bfa4170"
  },
  "kernelspec": {
   "display_name": "Julia 1.7.3",
   "language": "julia",
   "name": "julia-1.7"
  },
  "language_info": {
   "file_extension": ".jl",
   "mimetype": "application/julia",
   "name": "julia",
   "version": "1.7.3"
  }
 },
 "nbformat": 4,
 "nbformat_minor": 5
}
